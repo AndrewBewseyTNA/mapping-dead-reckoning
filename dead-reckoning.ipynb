{
 "cells": [
  {
   "cell_type": "markdown",
   "metadata": {},
   "source": [
    "# Mapping Dead Reckoning course data\n",
    "\n",
    "Hello and welcome to this notebook. \n",
    "\n",
    "## Aims\n",
    "\n",
    "There are three key aims of this notebook:\n",
    "- Gain some understanding of the Folium plugin.\n",
    "- Deal with code that isn't behaving as expected.\n",
    "- Map some ship course data, including showing how we can convert data to multiple courses.  \n",
    "\n",
    "## Data \n",
    "\n",
    "In the previous notebook, we downloaded some data from Discovery while investigating how to use the Discovery API. Here, we are going to use the images we downloaded - the ships logs from the 1800's. \n",
    "\n",
    "## Starting imports\n",
    "\n",
    "We start by importing the libraries we will need. We are going to assume that you don't have the libraries installed, so we will install them as we go."
   ]
  },
  {
   "cell_type": "code",
   "execution_count": null,
   "metadata": {},
   "outputs": [],
   "source": [
    "%pip install geopy\n",
    "%pip install folium\n",
    "import folium\n",
    "import geopy\n",
    "from geopy.distance import geodesic\n",
    "from datetime import datetime, timedelta\n",
    "import folium.plugins as plugins"
   ]
  },
  {
   "cell_type": "markdown",
   "metadata": {},
   "source": [
    "## Dead reckoning\n",
    "\n",
    "Prior to the GPS system, or other satellite navigation systems, ships navigated using dead reckoning. This is a method of navigation that uses the last known position of the ship, and the course and speed of the ship, to estimate the current position. This means the log recorded the course and speed of the ship, and the time at which the course and speed were recorded. "
   ]
  },
  {
   "cell_type": "markdown",
   "metadata": {},
   "source": [
    "## Ships logs and heading data. \n",
    "\n",
    "In the 1800's, ships compasses were less accurate than modern 3-digit system compasses. As a consequence, they used a [32 wind compass rose](https://en.wikipedia.org/wiki/Points_of_the_compass#32-wind_compass_rose). If we investigate the logs we've downloaded, they will contain headings such as \"ENE\" or \"NW\". These are about as accurate as ships could navigate at this point, and represent a range of headings of 11.25 degrees, which we will need to compensate for. \n",
    "Helpfully, we can make an assumption about these ranges, making the amount of data we need to generate more manageable. As we have to assume that the data in the log are accurate, we can assume that the ship was anywhere within the range of headings - for example, for ENE, this would be 78.75 to 90 degrees. The most likely was that the ship followed the middle of this course, but that they were not precise, and that the most out-of-course option is the limit of where they could be. So, we only need to generate 3 options - the most likely, and the two extremes. \n",
    "So, rather than generating 1 data point for each heading, we will generate 3. At the end of the course, this will give a range of positions that the ship could be in.\n",
    "\n",
    "### Sighting land\n",
    "\n",
    "This technique isn't perfect; once the ship sighted land, they would have been able to take an accurate location. In reality, this would have fixed any drift from the dead reckoning. However, we are aiming to keep this notebook understandable, so for now we are going to assume that the ship didn't sight land until the end of the journey. "
   ]
  },
  {
   "cell_type": "markdown",
   "metadata": {},
   "source": [
    "### Entering the data\n",
    "\n",
    "#### Creating the lists\n",
    "\n",
    "The first step is to create the lists that we will use to store the data. We will create a list for the left-most, middle and right-most data points. "
   ]
  },
  {
   "cell_type": "code",
   "execution_count": null,
   "metadata": {},
   "outputs": [],
   "source": [
    "center_course = []\n",
    "left_course = []\n",
    "right_course = []"
   ]
  },
  {
   "cell_type": "markdown",
   "metadata": {},
   "source": [
    "#### The first point\n",
    "\n",
    "We need to start with known good location - this will provide the initial lat and long that the rest of the course is built from. So first, we need to ask the user for this information. \n",
    "When the user runs this cell, they will be asked for this lat and long. This will then be used as the first waypoint for each of the three lists."
   ]
  },
  {
   "cell_type": "code",
   "execution_count": null,
   "metadata": {},
   "outputs": [],
   "source": [
    "latitude = float(input(\"Enter the latitude: \"))\n",
    "longitude = float(input(\"Enter the longitude: \"))\n",
    "start_date = input(\"Enter the start date (in the format yyyy-mm-dd): \")\n",
    "\n",
    "# Center Course\n",
    "\n",
    "center_course.append(\n",
    "    {\n",
    "        \"latitude\": latitude,\n",
    "        \"longitude\": longitude,\n",
    "        \"date\": start_date\n",
    "    }\n",
    ")\n",
    "\n",
    "# Left Course\n",
    "\n",
    "left_course.append(\n",
    "    {\n",
    "        \"latitude\": latitude,\n",
    "        \"longitude\": longitude,\n",
    "        \"date\": start_date\n",
    "    }\n",
    ")\n",
    "\n",
    "# Right Course\n",
    "\n",
    "right_course.append(\n",
    "    {\n",
    "        \"latitude\": latitude,\n",
    "        \"longitude\": longitude,\n",
    "        \"date\": start_date\n",
    "    }\n",
    ")"
   ]
  },
  {
   "cell_type": "markdown",
   "metadata": {},
   "source": [
    "#### The next points\n",
    "\n",
    "After the known good point, all we know is the bearing speed and time. \n",
    "So, we ask the user for this information, and use it to work out the next point. If the world was flat, this would be some simple trigonometry - we know the bearing, and we know the speed and time so we can work out the distance. We can then use these data to work out the lat and long of the next point. The world, however, isn't flat. Luckily, the [geopy](https://geopy.readthedocs.io/en/stable/) library has a function that will do this for us - geodesic. This takes the start, bearing, and distance, and returns the lat and long of the end point.\n",
    "Here, we start to do some additional work - we also need to work out the left and right points. For this, we are going to take the bearing that the user provided, and add and subtract 5.625 degrees, and work out the left and right points."
   ]
  },
  {
   "cell_type": "code",
   "execution_count": null,
   "metadata": {},
   "outputs": [],
   "source": [
    "## Note, this cell should be run once for every new speed or course change - this could mean as\n",
    "## much as once per hour\n",
    "\n",
    "bearing = float(input(\"Enter the bearing: \"))\n",
    "speed = float(input(\"Enter the speed: \"))\n",
    "time = float(input(\"Enter the time in hours: \"))\n",
    "\n",
    "kts_to_kph = 1.852\n",
    "\n",
    "## Center Course\n",
    "\n",
    "### Get the last position\n",
    "\n",
    "last_position = center_course[-1]\n",
    "\n",
    "### Calculate the new position\n",
    "\n",
    "new_central_waypoint = geodesic(kilometers=(speed * kts_to_kph * time)).destination([last_position[\"latitude\"], last_position[\"longitude\"]], bearing)\n",
    "new_central_waypoint = {\n",
    "    \"latitude\": new_central_waypoint.latitude,\n",
    "    \"longitude\": new_central_waypoint.longitude,\n",
    "    \"date\": (datetime.strptime(last_position[\"date\"], \"%Y-%m-%d\") + timedelta(hours=time)).strftime(\"%Y-%m-%d\")\n",
    "}\n",
    "\n",
    "### Add the new position to the list\n",
    "\n",
    "center_course.append(new_central_waypoint)\n",
    "\n",
    "\n",
    "## Left Course\n",
    "\n",
    "### Get the last position\n",
    "\n",
    "last_position = left_course[-1]\n",
    "\n",
    "### Calculate the new position\n",
    "\n",
    "new_left_waypoint = geodesic(kilometers=(speed * kts_to_kph * time)).destination([last_position[\"latitude\"], last_position[\"longitude\"]], bearing - 5.625)\n",
    "new_left_waypoint = {\n",
    "    \"latitude\": new_left_waypoint.latitude,\n",
    "    \"longitude\": new_left_waypoint.longitude,\n",
    "    \"date\": (datetime.strptime(last_position[\"date\"], \"%Y-%m-%d\") + timedelta(hours=time)).strftime(\"%Y-%m-%d\")\n",
    "}\n",
    "\n",
    "### Add the new position to the list\n",
    "\n",
    "left_course.append(new_left_waypoint)\n",
    "\n",
    "\n",
    "## Right Course\n",
    "\n",
    "### Get the last position\n",
    "\n",
    "last_position = right_course[-1]\n",
    "\n",
    "### Calculate the new position\n",
    "\n",
    "new_right_waypoint = geodesic(kilometers=(speed * kts_to_kph * time)).destination([last_position[\"latitude\"], last_position[\"longitude\"]], bearing + 5.625)\n",
    "new_right_waypoint = {\n",
    "    \"latitude\": new_right_waypoint.latitude,\n",
    "    \"longitude\": new_right_waypoint.longitude,\n",
    "    \"date\": (datetime.strptime(last_position[\"date\"], \"%Y-%m-%d\") + timedelta(hours=time)).strftime(\"%Y-%m-%d\")\n",
    "}\n",
    "\n",
    "### Add the new position to the list\n",
    "\n",
    "right_course.append(new_right_waypoint)"
   ]
  },
  {
   "cell_type": "markdown",
   "metadata": {},
   "source": [
    "### Mapping the data\n",
    "\n",
    "We are going to use the Folium plugin to map the data. This is a very powerful plugin, with a range of options. Here, we are going to use 2 of them:\n",
    "- Polyline - this will draw a line between the points we give it.\n",
    "- Marker - this will put a marker on the map at the point we give it, and allow us to add additional information. "
   ]
  },
  {
   "cell_type": "markdown",
   "metadata": {},
   "source": [
    "### Static maps\n",
    "\n",
    "Folium is an additive tool; we can add multiple features as we desire. For this static map, we are going to start with two - a line, and a marker at each waypoint.\n",
    "\n",
    "The line is going to use the PolyLine function, and will take a list of coordinates. We are going to draw a line for each of the lists, with the main one being bigger and bolder than the others.\n",
    "\n",
    "For the points, we are going to use the Marker tool. "
   ]
  },
  {
   "cell_type": "markdown",
   "metadata": {},
   "source": [
    "We are going to start by creating an empty map. \n",
    "In this example we will create a world map by centring on 0,0 and using a zoom level of 2. If you know the limit of your data, feel free to experiment by changing these values. "
   ]
  },
  {
   "cell_type": "code",
   "execution_count": null,
   "metadata": {},
   "outputs": [],
   "source": [
    "world_map = folium.Map(location=[0, 0], zoom_start=2)"
   ]
  },
  {
   "cell_type": "markdown",
   "metadata": {},
   "source": [
    "Next, we are going to start adding the features. We will start with the main line. We start by creating a temporary list, isolating the coordinates from the main list. For this, we loop through the main list, selecting the lat and long each time. "
   ]
  },
  {
   "cell_type": "code",
   "execution_count": null,
   "metadata": {},
   "outputs": [],
   "source": [
    "location_coordinates_center = []\n",
    "location_coordinates_left = []\n",
    "location_coordinates_right = []\n",
    "\n",
    "for position in center_course:\n",
    "    location_coordinates_center.append([position[\"latitude\"], position[\"longitude\"]])\n",
    "\n",
    "for position in left_course:\n",
    "    location_coordinates_left.append([position[\"latitude\"], position[\"longitude\"]])\n",
    "\n",
    "for position in right_course:\n",
    "    location_coordinates_right.append([position[\"latitude\"], position[\"longitude\"]])"
   ]
  },
  {
   "cell_type": "markdown",
   "metadata": {},
   "source": [
    " We then add this to the map using the PolyLine function. "
   ]
  },
  {
   "cell_type": "code",
   "execution_count": null,
   "metadata": {},
   "outputs": [],
   "source": [
    "## Center Course\n",
    "\n",
    "folium.PolyLine(\n",
    "    location_coordinates_center,\n",
    "    color=\"blue\",\n",
    "    weight=4,\n",
    "    opacity=1\n",
    ").add_to(world_map)"
   ]
  },
  {
   "cell_type": "markdown",
   "metadata": {},
   "source": [
    "We then do the same function, but for the left and right lists. "
   ]
  },
  {
   "cell_type": "code",
   "execution_count": null,
   "metadata": {},
   "outputs": [],
   "source": [
    "## Left Course\n",
    "\n",
    "folium.PolyLine(\n",
    "    location_coordinates_left,\n",
    "    color=\"red\",\n",
    "    weight=1,\n",
    "    opacity=1\n",
    ").add_to(world_map)\n",
    "\n",
    "## Right Course\n",
    "\n",
    "folium.PolyLine(\n",
    "    location_coordinates_right,\n",
    "    color=\"green\",\n",
    "    weight=2,\n",
    "    opacity=1\n",
    ").add_to(world_map)"
   ]
  },
  {
   "cell_type": "markdown",
   "metadata": {},
   "source": [
    "After this, we add the points. We don't need to create the temporary list this time, we can just cycle through the main list, extracting the data we need at each point. "
   ]
  },
  {
   "cell_type": "code",
   "execution_count": null,
   "metadata": {},
   "outputs": [],
   "source": [
    "## Center Course\n",
    "\n",
    "for position in center_course:\n",
    "    folium.CircleMarker(\n",
    "        location=[position[\"latitude\"], position[\"longitude\"]],\n",
    "        popup = position[\"date\"],\n",
    "        radius=2,\n",
    "        color=\"blue\",\n",
    "        fill=True,\n",
    "        fill_color=\"blue\"\n",
    "    ).add_to(world_map)\n",
    "\n",
    "## Left Course\n",
    "\n",
    "for position in left_course:\n",
    "    folium.CircleMarker(\n",
    "        location=[position[\"latitude\"], position[\"longitude\"]],\n",
    "        popup = position[\"date\"],\n",
    "        radius=2,\n",
    "        color=\"red\",\n",
    "        fill=True,\n",
    "        fill_color=\"red\"\n",
    "    ).add_to(world_map)\n",
    "\n",
    "## Right Course\n",
    "\n",
    "for position in right_course:\n",
    "    folium.CircleMarker(\n",
    "        location=[position[\"latitude\"], position[\"longitude\"]],\n",
    "        popup = position[\"date\"],\n",
    "        radius=2,\n",
    "        color=\"green\",\n",
    "        fill=True,\n",
    "        fill_color=\"green\"\n",
    "    ).add_to(world_map)"
   ]
  },
  {
   "cell_type": "markdown",
   "metadata": {},
   "source": [
    "Finally, we show the map again."
   ]
  },
  {
   "cell_type": "code",
   "execution_count": null,
   "metadata": {},
   "outputs": [],
   "source": [
    "world_map"
   ]
  },
  {
   "cell_type": "markdown",
   "metadata": {},
   "source": [
    "##### Other things we may want to add\n",
    "\n",
    "If we investigate the Folium documentation, we can see there are a number of different features we may want to add to the map, depending on the information we have available, and what we want to show. In all the cases, the documentation shows what data are needed, and in what format. \n",
    "For example, the [boat marker](https://python-visualization.github.io/folium/latest/user_guide/plugins/boat_marker.html) takes a heading and location for the boat, a heading and speed for the wind, and colour for the marker. If these data are available in the raw data, these could be added to the original master list, then when drawing the map, cycle through them similar to how we did for the points.\n",
    "If the mapped ships course covers the world, but has a lot of detail, we may want to add a [minimap](https://python-visualization.github.io/folium/plugins.html#folium.plugins.MiniMap) to the map. This will allow the user to see where the map is in relation to the world. In this case, we only need to do it once. We will need to provide the same information as the main map - the center and zoom level. We can also provide position relative to the main map. "
   ]
  },
  {
   "cell_type": "markdown",
   "metadata": {},
   "source": [
    "## Animating the data\n",
    "\n",
    "As we have time and location, we can animate the data. This will give us a really nice way of visualising the data; it will give context on how fast the ship was travelling at any one point. \n",
    "\n",
    "Note: this is where the code isn't behaving as expected. The next few cells are for advanced users only, and can be skipped - if you want to see the animation, skip to the next section."
   ]
  },
  {
   "cell_type": "markdown",
   "metadata": {},
   "source": [
    "One of the main changes between polyline and timestampedgeojson is the data required. For polyline we just needed a list of coordinates, for timestampedgeojson we need start and end coordinates and start and end times.\n",
    "We already have this data, we just need to do some shuffling to get it into the right arrangement."
   ]
  },
  {
   "cell_type": "markdown",
   "metadata": {},
   "source": [
    "We start similar to before, by creating an empty list for the lines. "
   ]
  },
  {
   "cell_type": "code",
   "execution_count": null,
   "metadata": {},
   "outputs": [],
   "source": [
    "lines_central = []\n",
    "lines_left = []\n",
    "lines_right = []"
   ]
  },
  {
   "cell_type": "markdown",
   "metadata": {},
   "source": [
    "We then loop through the list of waypoints, looking for every waypoint and its following one, and the time at each. These represent the start and end of each line; from this we can create the animation.\n",
    "These points include aditional information. The \"type\" marker is used to by the animation. Others, such \"stroke\" and \"stroke-width\" are used to control the appearance of the line."
   ]
  },
  {
   "cell_type": "code",
   "execution_count": null,
   "metadata": {},
   "outputs": [],
   "source": [
    "## Center Course\n",
    "\n",
    "for i in range(len(center_course) - 1):\n",
    "    lines_central.append(\n",
    "        {\n",
    "            \"type\": \"Feature\",\n",
    "            \"geometry\": {\n",
    "                \"type\": \"LineString\",\n",
    "                \"coordinates\": [\n",
    "                    [center_course[i][\"longitude\"], center_course[i][\"latitude\"]],\n",
    "                    [center_course[i + 1][\"longitude\"], center_course[i + 1][\"latitude\"]]\n",
    "                ]\n",
    "            },\n",
    "            \"properties\": {\n",
    "                \"times\": [\n",
    "                    center_course[i][\"date\"],\n",
    "                    center_course[i + 1][\"date\"]\n",
    "                ],\n",
    "                \"stroke\": \"#0000ff\",\n",
    "                \"stroke-width\": 4,\n",
    "                \"style\": {\n",
    "                    \"color\": \"blue\"\n",
    "                }\n",
    "            }\n",
    "        }\n",
    "    )\n",
    "\n",
    "## Left Course\n",
    "\n",
    "for i in range(len(left_course) - 1):\n",
    "    lines_left.append(\n",
    "        {\n",
    "            \"type\": \"Feature\",\n",
    "            \"geometry\": {\n",
    "                \"type\": \"LineString\",\n",
    "                \"coordinates\": [\n",
    "                    [left_course[i][\"longitude\"], left_course[i][\"latitude\"]],\n",
    "                    [left_course[i + 1][\"longitude\"], left_course[i + 1][\"latitude\"]]\n",
    "                ]\n",
    "            },\n",
    "            \"properties\": {\n",
    "                \"times\": [\n",
    "                    left_course[i][\"date\"],\n",
    "                    left_course[i + 1][\"date\"]\n",
    "                ],\n",
    "                \"stroke\": \"#ff0000\",\n",
    "                \"stroke-width\": 1,\n",
    "                \"style\": {\n",
    "                    \"color\": \"red\"\n",
    "                }\n",
    "            }\n",
    "        }\n",
    "    )\n",
    "\n",
    "## Right Course\n",
    "\n",
    "for i in range(len(right_course) - 1):\n",
    "    lines_right.append(\n",
    "        {\n",
    "            \"type\": \"Feature\",\n",
    "            \"geometry\": {\n",
    "                \"type\": \"LineString\",\n",
    "                \"coordinates\": [\n",
    "                    [right_course[i][\"longitude\"], right_course[i][\"latitude\"]],\n",
    "                    [right_course[i + 1][\"longitude\"], right_course[i + 1][\"latitude\"]]\n",
    "                ]\n",
    "            },\n",
    "            \"properties\": {\n",
    "                \"times\": [\n",
    "                    right_course[i][\"date\"],\n",
    "                    right_course[i + 1][\"date\"]\n",
    "                ],\n",
    "                \"stroke\": \"#00ff00\",\n",
    "                \"stroke-width\": 2,\n",
    "                \"style\": {\n",
    "                    \"color\": \"green\"\n",
    "                }\n",
    "            }\n",
    "        }\n",
    "    )"
   ]
  },
  {
   "cell_type": "markdown",
   "metadata": {},
   "source": [
    "### How to animate the data\n",
    "\n",
    "Note: this is where the code isn't behaving as expected. The next few cells are for advanced users only, and the details can be ignored - if you want to see the animation, and you're using the default data, run the cells in order and the final cell will show the animation.\n",
    "\n",
    "Now we have the data in the right format arrangement, its a similar process to the static map. We start by creating an object called features - this will get filled by the data we want to animate. Then, similar to the static map, we create a map, and add the animation to it."
   ]
  },
  {
   "cell_type": "code",
   "execution_count": null,
   "metadata": {},
   "outputs": [],
   "source": [
    "animated_map = folium.Map(location=[0, 0], zoom_start=2)\n",
    "\n",
    "## Center Course\n",
    "\n",
    "plugins.TimestampedGeoJson(\n",
    "    {\n",
    "        \"type\": \"FeatureCollection\",\n",
    "        \"features\": lines_central\n",
    "    },\n",
    "    period=\"PT1H\",\n",
    "    add_last_point=True\n",
    ").add_to(animated_map)\n",
    "\n",
    "## Left Course\n",
    "\n",
    "plugins.TimestampedGeoJson(\n",
    "    {\n",
    "        \"type\": \"FeatureCollection\",\n",
    "        \"features\": lines_left\n",
    "    },\n",
    "    period=\"PT1H\",\n",
    "    add_last_point=True\n",
    ").add_to(animated_map)\n",
    "\n",
    "## Right Course\n",
    "\n",
    "plugins.TimestampedGeoJson(\n",
    "    {\n",
    "        \"type\": \"FeatureCollection\",\n",
    "        \"features\": lines_right\n",
    "    },\n",
    "    period=\"PT1H\",\n",
    "    add_last_point=True\n",
    ").add_to(animated_map)\n",
    "\n",
    "## And display the map\n",
    "\n",
    "animated_map"
   ]
  },
  {
   "cell_type": "markdown",
   "metadata": {},
   "source": [
    "### That didn't work, what happened?\n",
    "\n",
    "As we can see, the animation didn't work. \n",
    "Typically, we would look at the error message and work out a solution from the information provided. However, here we just get the message \"Time not available\". \n",
    "So, we need to look on GitHub to see if anyone else has had this problem - the issues tab is a good place to start. Here, we find [this issue](https://github.com/socib/Leaflet.TimeDimension/issues/83), where another user has had the same problem. As part of the conversation on this issue, we find a link to [an issue on a different repository](https://github.com/socib/Leaflet.TimeDimension/pull/214), seemingly fixing the same issue. \n",
    "\n",
    "We can investigate further. We know that Folium uses the JavaScript library (Leaflet)[], and searching the web for \"Leaflet TimeStampedGeoJson\" leads us to [this page](https://github.com/python-visualization/folium/blob/main/folium/plugins/timestamped_geo_json.py) showing the code for the plugin. From here, at [line 77](https://github.com/python-visualization/folium/blob/main/folium/plugins/timestamped_geo_json.py#L77), we can find our way to the original plugin code, [here](https://github.com/socib/Leaflet.TimeDimension). \n",
    "\n",
    "This is good news, as we have confirmed that the issue is in the plugin, and not in our code. We can also see that the plugin is still being maintained, and that the issue has been fixed. All that we're wating for is a new release of the plugin, and for Leaflet and Folium to update to the new version.\n",
    "\n",
    "For us, this leaves us with two options:\n",
    "- Wait for the new version to be released, and update our code when it is.\n",
    "- We know that the issue is with dates before 1970, so we can change the dates we're working with. For this example, we're sure the dates we're working with are all in the 1800's, so we can add 200 years to all of the dates. "
   ]
  },
  {
   "cell_type": "markdown",
   "metadata": {},
   "source": [
    "#### Adding 200 years to the dates\n",
    "Adding 200 years to the date is a simple process, and we can do this using the datetime library. We simply loop through the dates, adding 200 years to each one."
   ]
  },
  {
   "cell_type": "code",
   "execution_count": null,
   "metadata": {},
   "outputs": [],
   "source": [
    "## Days in 200 years\n",
    "\n",
    "days_in_200_years = 365 * 200\n",
    "\n",
    "## Center Course\n",
    "\n",
    "for i in range (len(lines_central)):\n",
    "    lines_central[i][\"properties\"][\"times\"] = [str(datetime.strptime(lines_central[i][\"properties\"][\"times\"][0], \"%Y-%m-%d\") + timedelta(days=days_in_200_years)), str(datetime.strptime(lines_central[i][\"properties\"][\"times\"][1], \"%Y-%m-%d\") + timedelta(days=days_in_200_years))]\n",
    "\n",
    "## Left Course\n",
    "\n",
    "for i in range (len(lines_left)):\n",
    "    lines_left[i][\"properties\"][\"times\"] = [str(datetime.strptime(lines_left[i][\"properties\"][\"times\"][0], \"%Y-%m-%d\") + timedelta(days=days_in_200_years)), str(datetime.strptime(lines_left[i][\"properties\"][\"times\"][1], \"%Y-%m-%d\") + timedelta(days=days_in_200_years))]\n",
    "\n",
    "## Right Course\n",
    "\n",
    "for i in range (len(lines_right)):\n",
    "    lines_right[i][\"properties\"][\"times\"] = [str(datetime.strptime(lines_right[i][\"properties\"][\"times\"][0], \"%Y-%m-%d\") + timedelta(days=days_in_200_years)), str(datetime.strptime(lines_right[i][\"properties\"][\"times\"][1], \"%Y-%m-%d\") + timedelta(days=days_in_200_years))]"
   ]
  },
  {
   "cell_type": "markdown",
   "metadata": {},
   "source": [
    "### Re-running the animation\n",
    "\n",
    "Now that we have updated the dates to post 1970, we can re-run the animation."
   ]
  },
  {
   "cell_type": "code",
   "execution_count": null,
   "metadata": {},
   "outputs": [],
   "source": [
    "animated_map = folium.Map(location=[0, 0], zoom_start=2)\n",
    "\n",
    "## Center Course\n",
    "\n",
    "plugins.TimestampedGeoJson(\n",
    "    {\n",
    "        \"type\": \"FeatureCollection\",\n",
    "        \"features\": lines_central\n",
    "    },\n",
    "    period=\"PT1H\",\n",
    "    add_last_point=True\n",
    ").add_to(animated_map)\n",
    "\n",
    "## Left Course\n",
    "\n",
    "plugins.TimestampedGeoJson(\n",
    "    {\n",
    "        \"type\": \"FeatureCollection\",\n",
    "        \"features\": lines_left\n",
    "    },\n",
    "    period=\"PT1H\",\n",
    "    add_last_point=True\n",
    ").add_to(animated_map)\n",
    "\n",
    "## Right Course\n",
    "\n",
    "plugins.TimestampedGeoJson(\n",
    "    {\n",
    "        \"type\": \"FeatureCollection\",\n",
    "        \"features\": lines_right\n",
    "    },\n",
    "    period=\"PT1H\",\n",
    "    add_last_point=True\n",
    ").add_to(animated_map)\n",
    "\n",
    "## And display the map\n",
    "\n",
    "animated_map"
   ]
  }
 ],
 "metadata": {
  "kernelspec": {
   "display_name": "Python 3",
   "language": "python",
   "name": "python3"
  },
  "language_info": {
   "codemirror_mode": {
    "name": "ipython",
    "version": 3
   },
   "file_extension": ".py",
   "mimetype": "text/x-python",
   "name": "python",
   "nbconvert_exporter": "python",
   "pygments_lexer": "ipython3",
   "version": "3.10.12"
  },
  "orig_nbformat": 4
 },
 "nbformat": 4,
 "nbformat_minor": 2
}
